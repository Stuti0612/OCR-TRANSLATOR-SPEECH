{
  "nbformat": 4,
  "nbformat_minor": 0,
  "metadata": {
    "colab": {
      "provenance": [],
      "include_colab_link": true
    },
    "kernelspec": {
      "name": "python3",
      "display_name": "Python 3"
    },
    "language_info": {
      "name": "python"
    }
  },
  "cells": [
    {
      "cell_type": "markdown",
      "metadata": {
        "id": "view-in-github",
        "colab_type": "text"
      },
      "source": [
        "<a href=\"https://colab.research.google.com/github/Stuti0612/OCR-TRANSLATOR-SPEECH/blob/main/OCR%2BTRANSLATOR%2BSPEECH_(TEAM_4).ipynb\" target=\"_parent\"><img src=\"https://colab.research.google.com/assets/colab-badge.svg\" alt=\"Open In Colab\"/></a>"
      ]
    },
    {
      "cell_type": "code",
      "execution_count": null,
      "metadata": {
        "colab": {
          "base_uri": "https://localhost:8080/"
        },
        "id": "5Lj3o6e4sf-F",
        "outputId": "e003f842-585c-43bc-ad47-b196cb08dde3"
      },
      "outputs": [
        {
          "output_type": "stream",
          "name": "stdout",
          "text": [
            "Looking in indexes: https://pypi.org/simple, https://us-python.pkg.dev/colab-wheels/public/simple/\n",
            "Collecting easyocr\n",
            "  Downloading easyocr-1.6.2-py3-none-any.whl (2.9 MB)\n",
            "\u001b[2K     \u001b[90m━━━━━━━━━━━━━━━━━━━━━━━━━━━━━━━━━━━━━━━━\u001b[0m \u001b[32m2.9/2.9 MB\u001b[0m \u001b[31m26.9 MB/s\u001b[0m eta \u001b[36m0:00:00\u001b[0m\n",
            "\u001b[?25hRequirement already satisfied: torchvision>=0.5 in /usr/local/lib/python3.8/dist-packages (from easyocr) (0.14.1+cu116)\n",
            "Requirement already satisfied: PyYAML in /usr/local/lib/python3.8/dist-packages (from easyocr) (6.0)\n",
            "Collecting opencv-python-headless<=4.5.4.60\n",
            "  Downloading opencv_python_headless-4.5.4.60-cp38-cp38-manylinux_2_17_x86_64.manylinux2014_x86_64.whl (47.6 MB)\n",
            "\u001b[2K     \u001b[90m━━━━━━━━━━━━━━━━━━━━━━━━━━━━━━━━━━━━━━━━\u001b[0m \u001b[32m47.6/47.6 MB\u001b[0m \u001b[31m15.0 MB/s\u001b[0m eta \u001b[36m0:00:00\u001b[0m\n",
            "\u001b[?25hRequirement already satisfied: scikit-image in /usr/local/lib/python3.8/dist-packages (from easyocr) (0.18.3)\n",
            "Requirement already satisfied: Pillow in /usr/local/lib/python3.8/dist-packages (from easyocr) (8.4.0)\n",
            "Collecting python-bidi\n",
            "  Downloading python_bidi-0.4.2-py2.py3-none-any.whl (30 kB)\n",
            "Requirement already satisfied: torch in /usr/local/lib/python3.8/dist-packages (from easyocr) (1.13.1+cu116)\n",
            "Collecting pyclipper\n",
            "  Downloading pyclipper-1.3.0.post4-cp38-cp38-manylinux_2_5_x86_64.manylinux1_x86_64.whl (619 kB)\n",
            "\u001b[2K     \u001b[90m━━━━━━━━━━━━━━━━━━━━━━━━━━━━━━━━━━━━━━\u001b[0m \u001b[32m619.2/619.2 KB\u001b[0m \u001b[31m30.6 MB/s\u001b[0m eta \u001b[36m0:00:00\u001b[0m\n",
            "\u001b[?25hRequirement already satisfied: Shapely in /usr/local/lib/python3.8/dist-packages (from easyocr) (2.0.1)\n",
            "Requirement already satisfied: scipy in /usr/local/lib/python3.8/dist-packages (from easyocr) (1.7.3)\n",
            "Requirement already satisfied: numpy in /usr/local/lib/python3.8/dist-packages (from easyocr) (1.22.4)\n",
            "Collecting ninja\n",
            "  Downloading ninja-1.11.1-py2.py3-none-manylinux_2_12_x86_64.manylinux2010_x86_64.whl (145 kB)\n",
            "\u001b[2K     \u001b[90m━━━━━━━━━━━━━━━━━━━━━━━━━━━━━━━━━━━━━━━\u001b[0m \u001b[32m146.0/146.0 KB\u001b[0m \u001b[31m8.2 MB/s\u001b[0m eta \u001b[36m0:00:00\u001b[0m\n",
            "\u001b[?25hRequirement already satisfied: requests in /usr/local/lib/python3.8/dist-packages (from torchvision>=0.5->easyocr) (2.25.1)\n",
            "Requirement already satisfied: typing-extensions in /usr/local/lib/python3.8/dist-packages (from torchvision>=0.5->easyocr) (4.5.0)\n",
            "Requirement already satisfied: six in /usr/local/lib/python3.8/dist-packages (from python-bidi->easyocr) (1.15.0)\n",
            "Requirement already satisfied: tifffile>=2019.7.26 in /usr/local/lib/python3.8/dist-packages (from scikit-image->easyocr) (2023.2.3)\n",
            "Requirement already satisfied: matplotlib!=3.0.0,>=2.0.0 in /usr/local/lib/python3.8/dist-packages (from scikit-image->easyocr) (3.5.3)\n",
            "Requirement already satisfied: networkx>=2.0 in /usr/local/lib/python3.8/dist-packages (from scikit-image->easyocr) (3.0)\n",
            "Requirement already satisfied: imageio>=2.3.0 in /usr/local/lib/python3.8/dist-packages (from scikit-image->easyocr) (2.9.0)\n",
            "Requirement already satisfied: PyWavelets>=1.1.1 in /usr/local/lib/python3.8/dist-packages (from scikit-image->easyocr) (1.4.1)\n",
            "Requirement already satisfied: packaging>=20.0 in /usr/local/lib/python3.8/dist-packages (from matplotlib!=3.0.0,>=2.0.0->scikit-image->easyocr) (23.0)\n",
            "Requirement already satisfied: kiwisolver>=1.0.1 in /usr/local/lib/python3.8/dist-packages (from matplotlib!=3.0.0,>=2.0.0->scikit-image->easyocr) (1.4.4)\n",
            "Requirement already satisfied: fonttools>=4.22.0 in /usr/local/lib/python3.8/dist-packages (from matplotlib!=3.0.0,>=2.0.0->scikit-image->easyocr) (4.38.0)\n",
            "Requirement already satisfied: python-dateutil>=2.7 in /usr/local/lib/python3.8/dist-packages (from matplotlib!=3.0.0,>=2.0.0->scikit-image->easyocr) (2.8.2)\n",
            "Requirement already satisfied: cycler>=0.10 in /usr/local/lib/python3.8/dist-packages (from matplotlib!=3.0.0,>=2.0.0->scikit-image->easyocr) (0.11.0)\n",
            "Requirement already satisfied: pyparsing>=2.2.1 in /usr/local/lib/python3.8/dist-packages (from matplotlib!=3.0.0,>=2.0.0->scikit-image->easyocr) (3.0.9)\n",
            "Requirement already satisfied: chardet<5,>=3.0.2 in /usr/local/lib/python3.8/dist-packages (from requests->torchvision>=0.5->easyocr) (4.0.0)\n",
            "Requirement already satisfied: idna<3,>=2.5 in /usr/local/lib/python3.8/dist-packages (from requests->torchvision>=0.5->easyocr) (2.10)\n",
            "Requirement already satisfied: urllib3<1.27,>=1.21.1 in /usr/local/lib/python3.8/dist-packages (from requests->torchvision>=0.5->easyocr) (1.26.14)\n",
            "Requirement already satisfied: certifi>=2017.4.17 in /usr/local/lib/python3.8/dist-packages (from requests->torchvision>=0.5->easyocr) (2022.12.7)\n",
            "Installing collected packages: pyclipper, ninja, python-bidi, opencv-python-headless, easyocr\n",
            "  Attempting uninstall: opencv-python-headless\n",
            "    Found existing installation: opencv-python-headless 4.7.0.72\n",
            "    Uninstalling opencv-python-headless-4.7.0.72:\n",
            "      Successfully uninstalled opencv-python-headless-4.7.0.72\n",
            "Successfully installed easyocr-1.6.2 ninja-1.11.1 opencv-python-headless-4.5.4.60 pyclipper-1.3.0.post4 python-bidi-0.4.2\n"
          ]
        }
      ],
      "source": [
        "pip install easyocr"
      ]
    },
    {
      "cell_type": "code",
      "source": [
        "pip install googletrans==3.1.0a0"
      ],
      "metadata": {
        "colab": {
          "base_uri": "https://localhost:8080/"
        },
        "id": "8yDxNyhvsshM",
        "outputId": "b9787f09-66d2-4b95-ca4b-eeb7dfd744a7"
      },
      "execution_count": null,
      "outputs": [
        {
          "output_type": "stream",
          "name": "stdout",
          "text": [
            "Looking in indexes: https://pypi.org/simple, https://us-python.pkg.dev/colab-wheels/public/simple/\n",
            "Collecting googletrans==3.1.0a0\n",
            "  Downloading googletrans-3.1.0a0.tar.gz (19 kB)\n",
            "  Preparing metadata (setup.py) ... \u001b[?25l\u001b[?25hdone\n",
            "Collecting httpx==0.13.3\n",
            "  Downloading httpx-0.13.3-py3-none-any.whl (55 kB)\n",
            "\u001b[2K     \u001b[90m━━━━━━━━━━━━━━━━━━━━━━━━━━━━━━━━━━━━━━━━\u001b[0m \u001b[32m55.1/55.1 KB\u001b[0m \u001b[31m2.0 MB/s\u001b[0m eta \u001b[36m0:00:00\u001b[0m\n",
            "\u001b[?25hCollecting chardet==3.*\n",
            "  Downloading chardet-3.0.4-py2.py3-none-any.whl (133 kB)\n",
            "\u001b[2K     \u001b[90m━━━━━━━━━━━━━━━━━━━━━━━━━━━━━━━━━━━━━━━\u001b[0m \u001b[32m133.4/133.4 KB\u001b[0m \u001b[31m3.9 MB/s\u001b[0m eta \u001b[36m0:00:00\u001b[0m\n",
            "\u001b[?25hRequirement already satisfied: idna==2.* in /usr/local/lib/python3.8/dist-packages (from httpx==0.13.3->googletrans==3.1.0a0) (2.10)\n",
            "Requirement already satisfied: certifi in /usr/local/lib/python3.8/dist-packages (from httpx==0.13.3->googletrans==3.1.0a0) (2022.12.7)\n",
            "Collecting rfc3986<2,>=1.3\n",
            "  Downloading rfc3986-1.5.0-py2.py3-none-any.whl (31 kB)\n",
            "Collecting hstspreload\n",
            "  Downloading hstspreload-2023.1.1-py3-none-any.whl (1.5 MB)\n",
            "\u001b[2K     \u001b[90m━━━━━━━━━━━━━━━━━━━━━━━━━━━━━━━━━━━━━━━━\u001b[0m \u001b[32m1.5/1.5 MB\u001b[0m \u001b[31m31.3 MB/s\u001b[0m eta \u001b[36m0:00:00\u001b[0m\n",
            "\u001b[?25hCollecting sniffio\n",
            "  Downloading sniffio-1.3.0-py3-none-any.whl (10 kB)\n",
            "Collecting httpcore==0.9.*\n",
            "  Downloading httpcore-0.9.1-py3-none-any.whl (42 kB)\n",
            "\u001b[2K     \u001b[90m━━━━━━━━━━━━━━━━━━━━━━━━━━━━━━━━━━━━━━━━\u001b[0m \u001b[32m42.6/42.6 KB\u001b[0m \u001b[31m2.4 MB/s\u001b[0m eta \u001b[36m0:00:00\u001b[0m\n",
            "\u001b[?25hCollecting h2==3.*\n",
            "  Downloading h2-3.2.0-py2.py3-none-any.whl (65 kB)\n",
            "\u001b[2K     \u001b[90m━━━━━━━━━━━━━━━━━━━━━━━━━━━━━━━━━━━━━━━━\u001b[0m \u001b[32m65.0/65.0 KB\u001b[0m \u001b[31m2.9 MB/s\u001b[0m eta \u001b[36m0:00:00\u001b[0m\n",
            "\u001b[?25hCollecting h11<0.10,>=0.8\n",
            "  Downloading h11-0.9.0-py2.py3-none-any.whl (53 kB)\n",
            "\u001b[2K     \u001b[90m━━━━━━━━━━━━━━━━━━━━━━━━━━━━━━━━━━━━━━━━\u001b[0m \u001b[32m53.6/53.6 KB\u001b[0m \u001b[31m4.0 MB/s\u001b[0m eta \u001b[36m0:00:00\u001b[0m\n",
            "\u001b[?25hCollecting hpack<4,>=3.0\n",
            "  Downloading hpack-3.0.0-py2.py3-none-any.whl (38 kB)\n",
            "Collecting hyperframe<6,>=5.2.0\n",
            "  Downloading hyperframe-5.2.0-py2.py3-none-any.whl (12 kB)\n",
            "Building wheels for collected packages: googletrans\n",
            "  Building wheel for googletrans (setup.py) ... \u001b[?25l\u001b[?25hdone\n",
            "  Created wheel for googletrans: filename=googletrans-3.1.0a0-py3-none-any.whl size=16368 sha256=c697e773522a4ab1c5df86400b2a27d490cddc1dfea8fe37e03517c4bbf07b44\n",
            "  Stored in directory: /root/.cache/pip/wheels/dd/59/af/8d6c96a719763990f1c548e36b17d9efdfb767f42f7ff39f53\n",
            "Successfully built googletrans\n",
            "Installing collected packages: rfc3986, hyperframe, hpack, h11, chardet, sniffio, hstspreload, h2, httpcore, httpx, googletrans\n",
            "  Attempting uninstall: chardet\n",
            "    Found existing installation: chardet 4.0.0\n",
            "    Uninstalling chardet-4.0.0:\n",
            "      Successfully uninstalled chardet-4.0.0\n",
            "Successfully installed chardet-3.0.4 googletrans-3.1.0a0 h11-0.9.0 h2-3.2.0 hpack-3.0.0 hstspreload-2023.1.1 httpcore-0.9.1 httpx-0.13.3 hyperframe-5.2.0 rfc3986-1.5.0 sniffio-1.3.0\n"
          ]
        }
      ]
    },
    {
      "cell_type": "code",
      "source": [
        "pip install gtts"
      ],
      "metadata": {
        "colab": {
          "base_uri": "https://localhost:8080/"
        },
        "id": "CZepWyORsziu",
        "outputId": "dba2d20b-f9e1-4762-9002-f1d8b849fecf"
      },
      "execution_count": null,
      "outputs": [
        {
          "output_type": "stream",
          "name": "stdout",
          "text": [
            "Looking in indexes: https://pypi.org/simple, https://us-python.pkg.dev/colab-wheels/public/simple/\n",
            "Collecting gtts\n",
            "  Downloading gTTS-2.3.1-py3-none-any.whl (28 kB)\n",
            "Collecting requests<3,>=2.27\n",
            "  Downloading requests-2.28.2-py3-none-any.whl (62 kB)\n",
            "\u001b[2K     \u001b[90m━━━━━━━━━━━━━━━━━━━━━━━━━━━━━━━━━━━━━━━━\u001b[0m \u001b[32m62.8/62.8 KB\u001b[0m \u001b[31m4.2 MB/s\u001b[0m eta \u001b[36m0:00:00\u001b[0m\n",
            "\u001b[?25hRequirement already satisfied: click<8.2,>=7.1 in /usr/local/lib/python3.8/dist-packages (from gtts) (8.1.3)\n",
            "Requirement already satisfied: idna<4,>=2.5 in /usr/local/lib/python3.8/dist-packages (from requests<3,>=2.27->gtts) (2.10)\n",
            "Requirement already satisfied: charset-normalizer<4,>=2 in /usr/local/lib/python3.8/dist-packages (from requests<3,>=2.27->gtts) (3.0.1)\n",
            "Requirement already satisfied: certifi>=2017.4.17 in /usr/local/lib/python3.8/dist-packages (from requests<3,>=2.27->gtts) (2022.12.7)\n",
            "Requirement already satisfied: urllib3<1.27,>=1.21.1 in /usr/local/lib/python3.8/dist-packages (from requests<3,>=2.27->gtts) (1.26.14)\n",
            "Installing collected packages: requests, gtts\n",
            "  Attempting uninstall: requests\n",
            "    Found existing installation: requests 2.25.1\n",
            "    Uninstalling requests-2.25.1:\n",
            "      Successfully uninstalled requests-2.25.1\n",
            "Successfully installed gtts-2.3.1 requests-2.28.2\n"
          ]
        }
      ]
    },
    {
      "cell_type": "code",
      "source": [
        "from googletrans import Translator, constants\n",
        "from pprint import pprint\n",
        "from gtts import gTTS\n",
        "from IPython.display import Audio\n",
        "import matplotlib.pyplot as plt\n",
        "import cv2\n",
        "from pylab import rcParams\n",
        "from IPython.display import Image\n",
        "import easyocr"
      ],
      "metadata": {
        "id": "Gc4paicqs5Mu"
      },
      "execution_count": null,
      "outputs": []
    },
    {
      "cell_type": "code",
      "source": [
        "reader=easyocr.Reader(['en','hi'])"
      ],
      "metadata": {
        "colab": {
          "base_uri": "https://localhost:8080/"
        },
        "id": "Fc9xbi70tDZ2",
        "outputId": "255375eb-6273-48ee-b6d3-bcb5eab3845d"
      },
      "execution_count": null,
      "outputs": [
        {
          "output_type": "stream",
          "name": "stderr",
          "text": [
            "WARNING:easyocr.easyocr:CUDA not available - defaulting to CPU. Note: This module is much faster with a GPU.\n"
          ]
        }
      ]
    },
    {
      "cell_type": "code",
      "source": [
        "rcParams['figure.figsize'] = 8, 16\n",
        "file_name = \"/content/YAMATE.png\"\n",
        "Image(file_name)"
      ],
      "metadata": {
        "colab": {
          "base_uri": "https://localhost:8080/",
          "height": 72
        },
        "id": "oQy0WEN3tUJb",
        "outputId": "dbe25736-9aa1-4e78-8762-3f3ebca49b12"
      },
      "execution_count": null,
      "outputs": [
        {
          "output_type": "execute_result",
          "data": {
            "image/png": "[encoded data removed]",
            "text/plain": [
              "<IPython.core.display.Image object>"
            ]
          },
          "metadata": {},
          "execution_count": 28
        }
      ]
    },
    {
      "cell_type": "code",
      "source": [
        "output = reader.readtext(file_name)\n",
        "output"
      ],
      "metadata": {
        "colab": {
          "base_uri": "https://localhost:8080/"
        },
        "id": "jKA7Pml7trLd",
        "outputId": "59fa03fc-10b5-4dce-80b1-50c58b2058ae"
      },
      "execution_count": null,
      "outputs": [
        {
          "output_type": "execute_result",
          "data": {
            "text/plain": [
              "[([[5, 15], [221, 15], [221, 35], [5, 35]],\n",
              "  'NAUGHTY MAHESH SINGHA',\n",
              "  0.7889933128500193)]"
            ]
          },
          "metadata": {},
          "execution_count": 29
        }
      ]
    },
    {
      "cell_type": "code",
      "source": [
        "bounds = reader.readtext(file_name, add_margin=0.55, width_ths=0.7, link_threshold=0.8, decoder='beamsearch',blocklist='=-')\n",
        "bounds"
      ],
      "metadata": {
        "colab": {
          "base_uri": "https://localhost:8080/"
        },
        "id": "ngBkIaVcuIaa",
        "outputId": "ddce82ec-842f-40c3-c3e8-eb070f8b0dc9"
      },
      "execution_count": null,
      "outputs": [
        {
          "output_type": "execute_result",
          "data": {
            "text/plain": [
              "[([[0, 7], [229, 7], [229, 43], [0, 43]],\n",
              "  'NAUGHTY MAHESH SINGHA',\n",
              "  0.8537535431229367)]"
            ]
          },
          "metadata": {},
          "execution_count": 30
        }
      ]
    },
    {
      "cell_type": "code",
      "source": [
        "import PIL\n",
        "from PIL import ImageDraw\n",
        "im=PIL.Image.open('/content/YAMATE.png')"
      ],
      "metadata": {
        "id": "vYF8DmiXuRJl"
      },
      "execution_count": null,
      "outputs": []
    },
    {
      "cell_type": "code",
      "source": [
        "def draw_boxes(image, bounds, color='yellow', width=2):\n",
        "    draw = ImageDraw.Draw(image)\n",
        "    for bound in bounds:\n",
        "        p0, p1, p2, p3 = bound[0]\n",
        "        draw.line([*p0, *p1, *p2, *p3, *p0], fill=color, width=width)\n",
        "    return image\n",
        "\n",
        "draw_boxes(im, bounds)"
      ],
      "metadata": {
        "colab": {
          "base_uri": "https://localhost:8080/",
          "height": 72
        },
        "id": "33_9clBwubaC",
        "outputId": "50c85607-4970-44f2-dd8b-495eaba1ab32"
      },
      "execution_count": null,
      "outputs": [
        {
          "output_type": "execute_result",
          "data": {
            "text/plain": [
              "<PIL.PngImagePlugin.PngImageFile image mode=RGBA size=237x55 at 0x7F43782E0670>"
            ],
            "image/png": "[encoded data removed]"
          },
          "metadata": {},
          "execution_count": 33
        }
      ]
    },
    {
      "cell_type": "code",
      "source": [
        "text_list = reader.readtext(file_name, add_margin=0.55, width_ths=0.7, link_threshold=0.8, decoder='beamsearch',blocklist='=-', detail=0)\n",
        "text_list"
      ],
      "metadata": {
        "colab": {
          "base_uri": "https://localhost:8080/"
        },
        "id": "0bceXReVug3j",
        "outputId": "0de925ca-a0a5-4876-9193-1cd9a6d91c0a"
      },
      "execution_count": null,
      "outputs": [
        {
          "output_type": "execute_result",
          "data": {
            "text/plain": [
              "['NAUGHTY MAHESH SINGHA']"
            ]
          },
          "metadata": {},
          "execution_count": 34
        }
      ]
    },
    {
      "cell_type": "code",
      "source": [
        "text_comb=' '.join(text_list)\n",
        "text_comb"
      ],
      "metadata": {
        "id": "AvXTemZm_WyB",
        "colab": {
          "base_uri": "https://localhost:8080/",
          "height": 36
        },
        "outputId": "9628079c-f609-48d6-8cba-5aa61f5ba71d"
      },
      "execution_count": null,
      "outputs": [
        {
          "output_type": "execute_result",
          "data": {
            "text/plain": [
              "'NAUGHTY MAHESH SINGHA'"
            ],
            "application/vnd.google.colaboratory.intrinsic+json": {
              "type": "string"
            }
          },
          "metadata": {},
          "execution_count": 35
        }
      ]
    },
    {
      "cell_type": "code",
      "source": [
        "translator= Translator()"
      ],
      "metadata": {
        "id": "h3ZdyP01nyji"
      },
      "execution_count": null,
      "outputs": []
    },
    {
      "cell_type": "code",
      "source": [
        "print(translator.detect(text_comb))"
      ],
      "metadata": {
        "colab": {
          "base_uri": "https://localhost:8080/"
        },
        "id": "VS-dJoaRncTV",
        "outputId": "e94a35f8-cfb1-4896-ae95-005a1469413a"
      },
      "execution_count": null,
      "outputs": [
        {
          "output_type": "stream",
          "name": "stdout",
          "text": [
            "Detected(lang=en, confidence=0.8588988)\n"
          ]
        }
      ]
    },
    {
      "cell_type": "code",
      "source": [
        "ta_tts=gTTS(text_comb,lang='en')\n",
        "ta_tts.save('trans.mp3')\n",
        "Audio('trans.mp3' , autoplay=True)"
      ],
      "metadata": {
        "colab": {
          "base_uri": "https://localhost:8080/",
          "height": 76
        },
        "id": "DpDRztwzFpc1",
        "outputId": "67d71e05-ecb9-4589-b021-241df248ef1c"
      },
      "execution_count": null,
      "outputs": [
        {
          "output_type": "execute_result",
          "data": {
            "text/plain": [
              "<IPython.lib.display.Audio object>"
            ],
            "text/html": [
              "\n",
              "                <audio  controls=\"controls\" autoplay=\"autoplay\">\n",
              "                    <source src=\"data:audio/mpeg;base64,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\" type=\"audio/mpeg\" />\n",
              "                    Your browser does not support the audio element.\n",
              "                </audio>\n",
              "              "
            ]
          },
          "metadata": {},
          "execution_count": 43
        }
      ]
    },
    {
      "cell_type": "code",
      "source": [
        "text_hi=translator.translate(text_comb, dest='hi')\n",
        "print(text_hi.text)"
      ],
      "metadata": {
        "colab": {
          "base_uri": "https://localhost:8080/"
        },
        "id": "RxDObxPcslIb",
        "outputId": "2e867388-e7d0-4d94-9730-d7ba10428e90"
      },
      "execution_count": null,
      "outputs": [
        {
          "output_type": "stream",
          "name": "stdout",
          "text": [
            "नटखट महेश सिंहा\n"
          ]
        }
      ]
    },
    {
      "cell_type": "code",
      "source": [
        "ta_tts=gTTS(text_hi.text,lang='hi')\n",
        "ta_tts.save('trans.mp3')\n",
        "Audio('trans.mp3' , autoplay=True)"
      ],
      "metadata": {
        "colab": {
          "base_uri": "https://localhost:8080/",
          "height": 76
        },
        "id": "ZvxKuW6YtBTU",
        "outputId": "f44c8dea-bbac-42af-a939-797b3a717ff0"
      },
      "execution_count": null,
      "outputs": [
        {
          "output_type": "execute_result",
          "data": {
            "text/plain": [
              "<IPython.lib.display.Audio object>"
            ],
            "text/html": [
              "\n",
              "                <audio  controls=\"controls\" autoplay=\"autoplay\">\n",
              "                    <source src=\"data:audio/mpeg;base64,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\" type=\"audio/mpeg\" />\n",
              "                    Your browser does not support the audio element.\n",
              "                </audio>\n",
              "              "
            ]
          },
          "metadata": {},
          "execution_count": 51
        }
      ]
    },
    {
      "cell_type": "code",
      "source": [],
      "metadata": {
        "id": "GzT--NwdI5K2"
      },
      "execution_count": null,
      "outputs": []
    }
  ]
}