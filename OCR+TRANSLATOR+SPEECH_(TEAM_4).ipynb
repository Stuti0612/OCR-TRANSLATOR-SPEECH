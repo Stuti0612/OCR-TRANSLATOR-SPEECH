{
  "nbformat": 4,
  "nbformat_minor": 0,
  "metadata": {
    "colab": {
      "provenance": []
    },
    "kernelspec": {
      "name": "python3",
      "display_name": "Python 3"
    },
    "language_info": {
      "name": "python"
    }
  },
  "cells": [
    {
      "cell_type": "code",
      "execution_count": 1,
      "metadata": {
        "colab": {
          "base_uri": "https://localhost:8080/"
        },
        "id": "5Lj3o6e4sf-F",
        "outputId": "655b086b-339f-465f-c8b3-196dbc8780b8"
      },
      "outputs": [
        {
          "output_type": "stream",
          "name": "stdout",
          "text": [
            "Collecting easyocr\n",
            "  Downloading easyocr-1.7.1-py3-none-any.whl (2.9 MB)\n",
            "\u001b[2K     \u001b[90m━━━━━━━━━━━━━━━━━━━━━━━━━━━━━━━━━━━━━━━━\u001b[0m \u001b[32m2.9/2.9 MB\u001b[0m \u001b[31m14.0 MB/s\u001b[0m eta \u001b[36m0:00:00\u001b[0m\n",
            "\u001b[?25hRequirement already satisfied: torch in /usr/local/lib/python3.10/dist-packages (from easyocr) (2.1.0+cu121)\n",
            "Requirement already satisfied: torchvision>=0.5 in /usr/local/lib/python3.10/dist-packages (from easyocr) (0.16.0+cu121)\n",
            "Requirement already satisfied: opencv-python-headless in /usr/local/lib/python3.10/dist-packages (from easyocr) (4.9.0.80)\n",
            "Requirement already satisfied: scipy in /usr/local/lib/python3.10/dist-packages (from easyocr) (1.11.4)\n",
            "Requirement already satisfied: numpy in /usr/local/lib/python3.10/dist-packages (from easyocr) (1.25.2)\n",
            "Requirement already satisfied: Pillow in /usr/local/lib/python3.10/dist-packages (from easyocr) (9.4.0)\n",
            "Requirement already satisfied: scikit-image in /usr/local/lib/python3.10/dist-packages (from easyocr) (0.19.3)\n",
            "Collecting python-bidi (from easyocr)\n",
            "  Downloading python_bidi-0.4.2-py2.py3-none-any.whl (30 kB)\n",
            "Requirement already satisfied: PyYAML in /usr/local/lib/python3.10/dist-packages (from easyocr) (6.0.1)\n",
            "Requirement already satisfied: Shapely in /usr/local/lib/python3.10/dist-packages (from easyocr) (2.0.3)\n",
            "Collecting pyclipper (from easyocr)\n",
            "  Downloading pyclipper-1.3.0.post5-cp310-cp310-manylinux_2_12_x86_64.manylinux2010_x86_64.whl (908 kB)\n",
            "\u001b[2K     \u001b[90m━━━━━━━━━━━━━━━━━━━━━━━━━━━━━━━━━━━━━━━━\u001b[0m \u001b[32m908.3/908.3 kB\u001b[0m \u001b[31m22.8 MB/s\u001b[0m eta \u001b[36m0:00:00\u001b[0m\n",
            "\u001b[?25hCollecting ninja (from easyocr)\n",
            "  Downloading ninja-1.11.1.1-py2.py3-none-manylinux1_x86_64.manylinux_2_5_x86_64.whl (307 kB)\n",
            "\u001b[2K     \u001b[90m━━━━━━━━━━━━━━━━━━━━━━━━━━━━━━━━━━━━━━━━\u001b[0m \u001b[32m307.2/307.2 kB\u001b[0m \u001b[31m17.8 MB/s\u001b[0m eta \u001b[36m0:00:00\u001b[0m\n",
            "\u001b[?25hRequirement already satisfied: requests in /usr/local/lib/python3.10/dist-packages (from torchvision>=0.5->easyocr) (2.31.0)\n",
            "Requirement already satisfied: filelock in /usr/local/lib/python3.10/dist-packages (from torch->easyocr) (3.13.1)\n",
            "Requirement already satisfied: typing-extensions in /usr/local/lib/python3.10/dist-packages (from torch->easyocr) (4.9.0)\n",
            "Requirement already satisfied: sympy in /usr/local/lib/python3.10/dist-packages (from torch->easyocr) (1.12)\n",
            "Requirement already satisfied: networkx in /usr/local/lib/python3.10/dist-packages (from torch->easyocr) (3.2.1)\n",
            "Requirement already satisfied: jinja2 in /usr/local/lib/python3.10/dist-packages (from torch->easyocr) (3.1.3)\n",
            "Requirement already satisfied: fsspec in /usr/local/lib/python3.10/dist-packages (from torch->easyocr) (2023.6.0)\n",
            "Requirement already satisfied: triton==2.1.0 in /usr/local/lib/python3.10/dist-packages (from torch->easyocr) (2.1.0)\n",
            "Requirement already satisfied: six in /usr/local/lib/python3.10/dist-packages (from python-bidi->easyocr) (1.16.0)\n",
            "Requirement already satisfied: imageio>=2.4.1 in /usr/local/lib/python3.10/dist-packages (from scikit-image->easyocr) (2.31.6)\n",
            "Requirement already satisfied: tifffile>=2019.7.26 in /usr/local/lib/python3.10/dist-packages (from scikit-image->easyocr) (2024.2.12)\n",
            "Requirement already satisfied: PyWavelets>=1.1.1 in /usr/local/lib/python3.10/dist-packages (from scikit-image->easyocr) (1.5.0)\n",
            "Requirement already satisfied: packaging>=20.0 in /usr/local/lib/python3.10/dist-packages (from scikit-image->easyocr) (23.2)\n",
            "Requirement already satisfied: MarkupSafe>=2.0 in /usr/local/lib/python3.10/dist-packages (from jinja2->torch->easyocr) (2.1.5)\n",
            "Requirement already satisfied: charset-normalizer<4,>=2 in /usr/local/lib/python3.10/dist-packages (from requests->torchvision>=0.5->easyocr) (3.3.2)\n",
            "Requirement already satisfied: idna<4,>=2.5 in /usr/local/lib/python3.10/dist-packages (from requests->torchvision>=0.5->easyocr) (3.6)\n",
            "Requirement already satisfied: urllib3<3,>=1.21.1 in /usr/local/lib/python3.10/dist-packages (from requests->torchvision>=0.5->easyocr) (2.0.7)\n",
            "Requirement already satisfied: certifi>=2017.4.17 in /usr/local/lib/python3.10/dist-packages (from requests->torchvision>=0.5->easyocr) (2024.2.2)\n",
            "Requirement already satisfied: mpmath>=0.19 in /usr/local/lib/python3.10/dist-packages (from sympy->torch->easyocr) (1.3.0)\n",
            "Installing collected packages: pyclipper, ninja, python-bidi, easyocr\n",
            "Successfully installed easyocr-1.7.1 ninja-1.11.1.1 pyclipper-1.3.0.post5 python-bidi-0.4.2\n"
          ]
        }
      ],
      "source": [
        "pip install easyocr"
      ]
    },
    {
      "cell_type": "code",
      "source": [
        "pip install googletrans==3.1.0a0"
      ],
      "metadata": {
        "colab": {
          "base_uri": "https://localhost:8080/"
        },
        "id": "8yDxNyhvsshM",
        "outputId": "7d0cc107-5be0-4ead-fdc1-270317d0f55b"
      },
      "execution_count": 2,
      "outputs": [
        {
          "output_type": "stream",
          "name": "stdout",
          "text": [
            "Collecting googletrans==3.1.0a0\n",
            "  Downloading googletrans-3.1.0a0.tar.gz (19 kB)\n",
            "  Preparing metadata (setup.py) ... \u001b[?25l\u001b[?25hdone\n",
            "Collecting httpx==0.13.3 (from googletrans==3.1.0a0)\n",
            "  Downloading httpx-0.13.3-py3-none-any.whl (55 kB)\n",
            "\u001b[2K     \u001b[90m━━━━━━━━━━━━━━━━━━━━━━━━━━━━━━━━━━━━━━━━\u001b[0m \u001b[32m55.1/55.1 kB\u001b[0m \u001b[31m1.6 MB/s\u001b[0m eta \u001b[36m0:00:00\u001b[0m\n",
            "\u001b[?25hRequirement already satisfied: certifi in /usr/local/lib/python3.10/dist-packages (from httpx==0.13.3->googletrans==3.1.0a0) (2024.2.2)\n",
            "Collecting hstspreload (from httpx==0.13.3->googletrans==3.1.0a0)\n",
            "  Downloading hstspreload-2024.2.1-py3-none-any.whl (1.1 MB)\n",
            "\u001b[2K     \u001b[90m━━━━━━━━━━━━━━━━━━━━━━━━━━━━━━━━━━━━━━━━\u001b[0m \u001b[32m1.1/1.1 MB\u001b[0m \u001b[31m9.0 MB/s\u001b[0m eta \u001b[36m0:00:00\u001b[0m\n",
            "\u001b[?25hRequirement already satisfied: sniffio in /usr/local/lib/python3.10/dist-packages (from httpx==0.13.3->googletrans==3.1.0a0) (1.3.0)\n",
            "Collecting chardet==3.* (from httpx==0.13.3->googletrans==3.1.0a0)\n",
            "  Downloading chardet-3.0.4-py2.py3-none-any.whl (133 kB)\n",
            "\u001b[2K     \u001b[90m━━━━━━━━━━━━━━━━━━━━━━━━━━━━━━━━━━━━━━━━\u001b[0m \u001b[32m133.4/133.4 kB\u001b[0m \u001b[31m8.3 MB/s\u001b[0m eta \u001b[36m0:00:00\u001b[0m\n",
            "\u001b[?25hCollecting idna==2.* (from httpx==0.13.3->googletrans==3.1.0a0)\n",
            "  Downloading idna-2.10-py2.py3-none-any.whl (58 kB)\n",
            "\u001b[2K     \u001b[90m━━━━━━━━━━━━━━━━━━━━━━━━━━━━━━━━━━━━━━━━\u001b[0m \u001b[32m58.8/58.8 kB\u001b[0m \u001b[31m6.9 MB/s\u001b[0m eta \u001b[36m0:00:00\u001b[0m\n",
            "\u001b[?25hCollecting rfc3986<2,>=1.3 (from httpx==0.13.3->googletrans==3.1.0a0)\n",
            "  Downloading rfc3986-1.5.0-py2.py3-none-any.whl (31 kB)\n",
            "Collecting httpcore==0.9.* (from httpx==0.13.3->googletrans==3.1.0a0)\n",
            "  Downloading httpcore-0.9.1-py3-none-any.whl (42 kB)\n",
            "\u001b[2K     \u001b[90m━━━━━━━━━━━━━━━━━━━━━━━━━━━━━━━━━━━━━━━━\u001b[0m \u001b[32m42.6/42.6 kB\u001b[0m \u001b[31m4.6 MB/s\u001b[0m eta \u001b[36m0:00:00\u001b[0m\n",
            "\u001b[?25hCollecting h11<0.10,>=0.8 (from httpcore==0.9.*->httpx==0.13.3->googletrans==3.1.0a0)\n",
            "  Downloading h11-0.9.0-py2.py3-none-any.whl (53 kB)\n",
            "\u001b[2K     \u001b[90m━━━━━━━━━━━━━━━━━━━━━━━━━━━━━━━━━━━━━━━━\u001b[0m \u001b[32m53.6/53.6 kB\u001b[0m \u001b[31m6.5 MB/s\u001b[0m eta \u001b[36m0:00:00\u001b[0m\n",
            "\u001b[?25hCollecting h2==3.* (from httpcore==0.9.*->httpx==0.13.3->googletrans==3.1.0a0)\n",
            "  Downloading h2-3.2.0-py2.py3-none-any.whl (65 kB)\n",
            "\u001b[2K     \u001b[90m━━━━━━━━━━━━━━━━━━━━━━━━━━━━━━━━━━━━━━━━\u001b[0m \u001b[32m65.0/65.0 kB\u001b[0m \u001b[31m8.2 MB/s\u001b[0m eta \u001b[36m0:00:00\u001b[0m\n",
            "\u001b[?25hCollecting hyperframe<6,>=5.2.0 (from h2==3.*->httpcore==0.9.*->httpx==0.13.3->googletrans==3.1.0a0)\n",
            "  Downloading hyperframe-5.2.0-py2.py3-none-any.whl (12 kB)\n",
            "Collecting hpack<4,>=3.0 (from h2==3.*->httpcore==0.9.*->httpx==0.13.3->googletrans==3.1.0a0)\n",
            "  Downloading hpack-3.0.0-py2.py3-none-any.whl (38 kB)\n",
            "Building wheels for collected packages: googletrans\n",
            "  Building wheel for googletrans (setup.py) ... \u001b[?25l\u001b[?25hdone\n",
            "  Created wheel for googletrans: filename=googletrans-3.1.0a0-py3-none-any.whl size=16352 sha256=14b1223d61ff9c95fa104377473b2461013d5d977089705787a0ccaa840f6a69\n",
            "  Stored in directory: /root/.cache/pip/wheels/50/5d/3c/8477d0af4ca2b8b1308812c09f1930863caeebc762fe265a95\n",
            "Successfully built googletrans\n",
            "Installing collected packages: rfc3986, hyperframe, hpack, h11, chardet, idna, hstspreload, h2, httpcore, httpx, googletrans\n",
            "  Attempting uninstall: chardet\n",
            "    Found existing installation: chardet 5.2.0\n",
            "    Uninstalling chardet-5.2.0:\n",
            "      Successfully uninstalled chardet-5.2.0\n",
            "  Attempting uninstall: idna\n",
            "    Found existing installation: idna 3.6\n",
            "    Uninstalling idna-3.6:\n",
            "      Successfully uninstalled idna-3.6\n",
            "Successfully installed chardet-3.0.4 googletrans-3.1.0a0 h11-0.9.0 h2-3.2.0 hpack-3.0.0 hstspreload-2024.2.1 httpcore-0.9.1 httpx-0.13.3 hyperframe-5.2.0 idna-2.10 rfc3986-1.5.0\n"
          ]
        }
      ]
    },
    {
      "cell_type": "code",
      "source": [
        "pip install gtts"
      ],
      "metadata": {
        "colab": {
          "base_uri": "https://localhost:8080/"
        },
        "id": "CZepWyORsziu",
        "outputId": "3637b5cb-b999-44e7-ff68-c39f98dfc058"
      },
      "execution_count": 3,
      "outputs": [
        {
          "output_type": "stream",
          "name": "stdout",
          "text": [
            "Collecting gtts\n",
            "  Downloading gTTS-2.5.1-py3-none-any.whl (29 kB)\n",
            "Requirement already satisfied: requests<3,>=2.27 in /usr/local/lib/python3.10/dist-packages (from gtts) (2.31.0)\n",
            "Requirement already satisfied: click<8.2,>=7.1 in /usr/local/lib/python3.10/dist-packages (from gtts) (8.1.7)\n",
            "Requirement already satisfied: charset-normalizer<4,>=2 in /usr/local/lib/python3.10/dist-packages (from requests<3,>=2.27->gtts) (3.3.2)\n",
            "Requirement already satisfied: idna<4,>=2.5 in /usr/local/lib/python3.10/dist-packages (from requests<3,>=2.27->gtts) (2.10)\n",
            "Requirement already satisfied: urllib3<3,>=1.21.1 in /usr/local/lib/python3.10/dist-packages (from requests<3,>=2.27->gtts) (2.0.7)\n",
            "Requirement already satisfied: certifi>=2017.4.17 in /usr/local/lib/python3.10/dist-packages (from requests<3,>=2.27->gtts) (2024.2.2)\n",
            "Installing collected packages: gtts\n",
            "Successfully installed gtts-2.5.1\n"
          ]
        }
      ]
    },
    {
      "cell_type": "code",
      "source": [
        "from googletrans import Translator, constants\n",
        "from pprint import pprint\n",
        "from gtts import gTTS\n",
        "from IPython.display import Audio\n",
        "import matplotlib.pyplot as plt\n",
        "import cv2\n",
        "from pylab import rcParams\n",
        "from IPython.display import Image\n",
        "import easyocr"
      ],
      "metadata": {
        "id": "Gc4paicqs5Mu"
      },
      "execution_count": 4,
      "outputs": []
    },
    {
      "cell_type": "code",
      "source": [
        "reader=easyocr.Reader(['en','hi'])"
      ],
      "metadata": {
        "colab": {
          "base_uri": "https://localhost:8080/"
        },
        "id": "Fc9xbi70tDZ2",
        "outputId": "62a8c6ea-2fab-4ef0-cb53-eda6b8c24266"
      },
      "execution_count": 5,
      "outputs": [
        {
          "output_type": "stream",
          "name": "stderr",
          "text": [
            "WARNING:easyocr.easyocr:Neither CUDA nor MPS are available - defaulting to CPU. Note: This module is much faster with a GPU.\n",
            "WARNING:easyocr.easyocr:Downloading detection model, please wait. This may take several minutes depending upon your network connection.\n"
          ]
        },
        {
          "output_type": "stream",
          "name": "stdout",
          "text": [
            "Progress: |██████████████████████████████████████████████████| 100.0% Complete"
          ]
        },
        {
          "output_type": "stream",
          "name": "stderr",
          "text": [
            "WARNING:easyocr.easyocr:Downloading recognition model, please wait. This may take several minutes depending upon your network connection.\n"
          ]
        },
        {
          "output_type": "stream",
          "name": "stdout",
          "text": [
            "Progress: |██████████████████████████████████████████████████| 100.0% Complete"
          ]
        }
      ]
    },
    {
      "cell_type": "code",
      "source": [
        "rcParams['figure.figsize'] = 8, 16\n",
        "file_name = \"/content/logo-5-color.png\"\n",
        "Image(file_name)"
      ],
      "metadata": {
        "colab": {
          "base_uri": "https://localhost:8080/",
          "height": 148
        },
        "id": "oQy0WEN3tUJb",
        "outputId": "266d0d37-5b29-404e-f3ff-fcfd77d2023d"
      },
      "execution_count": 6,
      "outputs": [
        {
          "output_type": "execute_result",
          "data": {
            "image/png": "[encoded data removed]",
            "text/plain": [
              "<IPython.core.display.Image object>"
            ]
          },
          "metadata": {},
          "execution_count": 6
        }
      ]
    },
    {
      "cell_type": "code",
      "source": [
        "output = reader.readtext(file_name)\n",
        "output"
      ],
      "metadata": {
        "colab": {
          "base_uri": "https://localhost:8080/"
        },
        "id": "jKA7Pml7trLd",
        "outputId": "762d48a5-8e36-454c-b165-99d03f0fc619"
      },
      "execution_count": 7,
      "outputs": [
        {
          "output_type": "stream",
          "name": "stderr",
          "text": [
            "/usr/local/lib/python3.10/dist-packages/PIL/Image.py:996: UserWarning: Palette images with Transparency expressed in bytes should be converted to RGBA images\n",
            "  warnings.warn(\n"
          ]
        },
        {
          "output_type": "execute_result",
          "data": {
            "text/plain": [
              "[([[37, 1], [173, 1], [173, 39], [37, 39]], 'dNTA O:', 0.07072605922482461),\n",
              " ([[91, 29], [121, 29], [121, 43], [91, 43]], 't1Tu[', 0.07881707648115291),\n",
              " ([[19, 49], [191, 49], [191, 85], [19, 85]], 'HANDHADE', 0.6202942451518665),\n",
              " ([[73, 91], [137, 91], [137, 105], [73, 105]],\n",
              "  'Ef imi Ila',\n",
              "  0.07490955505722305),\n",
              " ([[45.05131670194949, 96.15395010584845],\n",
              "   [106.94358336947336, 107.42093441912],\n",
              "   [101.94868329805051, 131.84604989415155],\n",
              "   [40.05641663052665, 120.57906558088]],\n",
              "  'WoOD',\n",
              "  0.27510321140289307),\n",
              " ([[103.71963120067105, 106.46355744080525],\n",
              "   [162.76838676814745, 99.0657579338089],\n",
              "   [165.28036879932895, 121.53644255919475],\n",
              "   [106.23161323185255, 128.9342420661911]],\n",
              "  'dIऐTI',\n",
              "  0.034747229161935386)]"
            ]
          },
          "metadata": {},
          "execution_count": 7
        }
      ]
    },
    {
      "cell_type": "code",
      "source": [
        "bounds = reader.readtext(file_name, add_margin=0.55, width_ths=0.7, link_threshold=0.8, decoder='beamsearch',blocklist='=-')\n",
        "bounds"
      ],
      "metadata": {
        "colab": {
          "base_uri": "https://localhost:8080/"
        },
        "id": "ngBkIaVcuIaa",
        "outputId": "968f60e7-d42a-42f4-b709-0a7f228a7745"
      },
      "execution_count": 8,
      "outputs": [
        {
          "output_type": "execute_result",
          "data": {
            "text/plain": [
              "[([[28, 2], [74, 2], [74, 48], [28, 48]], '4', 0.23860607372093146),\n",
              " ([[36, 0], [191, 0], [191, 57], [36, 57]], 'TINTAOg_', 0.2251341859455029),\n",
              " ([[86, 24], [126, 24], [126, 48], [86, 48]], 'stt', 0.37010658593725726),\n",
              " ([[6, 36], [204, 36], [204, 98], [6, 98]], 'HANDMADE', 0.23412559957001577),\n",
              " ([[68, 86], [142, 86], [142, 110], [68, 110]], 'Eam a4', 0.1825296772759492),\n",
              " ([[96, 92], [166, 92], [166, 131], [96, 131]], '\"arTs', 0.47159151731975474),\n",
              " ([[40.94035574373059, 83.82106723119178],\n",
              "   [119.69911130385789, 104.91165023530664],\n",
              "   [106.05964425626941, 144.1789327688082],\n",
              "   [27.300888696142113, 123.08834976469336]],\n",
              "  'woop ९',\n",
              "  0.13588333623070828)]"
            ]
          },
          "metadata": {},
          "execution_count": 8
        }
      ]
    },
    {
      "cell_type": "code",
      "source": [
        "import PIL\n",
        "from PIL import ImageDraw\n",
        "im=PIL.Image.open('/content/logo-5-color.png')"
      ],
      "metadata": {
        "id": "vYF8DmiXuRJl"
      },
      "execution_count": 10,
      "outputs": []
    },
    {
      "cell_type": "code",
      "source": [
        "def draw_boxes(image, bounds, color='yellow', width=2):\n",
        "    draw = ImageDraw.Draw(image)\n",
        "    for bound in bounds:\n",
        "        p0, p1, p2, p3 = bound[0]\n",
        "        draw.line([*p0, *p1, *p2, *p3, *p0], fill=color, width=width)\n",
        "    return image\n",
        "\n",
        "draw_boxes(im, bounds)"
      ],
      "metadata": {
        "colab": {
          "base_uri": "https://localhost:8080/",
          "height": 148
        },
        "id": "33_9clBwubaC",
        "outputId": "ed7a66f4-385b-42c5-f6fb-3f218f559613"
      },
      "execution_count": 11,
      "outputs": [
        {
          "output_type": "execute_result",
          "data": {
            "text/plain": [
              "<PIL.PngImagePlugin.PngImageFile image mode=P size=209x131>"
            ],
            "image/png": "[encoded data removed]"
          },
          "metadata": {},
          "execution_count": 11
        }
      ]
    },
    {
      "cell_type": "code",
      "source": [
        "text_list = reader.readtext(file_name, add_margin=0.55, width_ths=0.7, link_threshold=0.8, decoder='beamsearch',blocklist='=-', detail=0)\n",
        "text_list"
      ],
      "metadata": {
        "colab": {
          "base_uri": "https://localhost:8080/"
        },
        "id": "0bceXReVug3j",
        "outputId": "fafbd945-f6a6-4644-cb7b-f72db7788822"
      },
      "execution_count": 12,
      "outputs": [
        {
          "output_type": "execute_result",
          "data": {
            "text/plain": [
              "['4', 'TINTAOg_', 'stt', 'HANDMADE', 'Eam a4', '\"arTs', 'woop ९']"
            ]
          },
          "metadata": {},
          "execution_count": 12
        }
      ]
    },
    {
      "cell_type": "code",
      "source": [
        "text_comb=' '.join(text_list)\n",
        "text_comb"
      ],
      "metadata": {
        "id": "AvXTemZm_WyB",
        "colab": {
          "base_uri": "https://localhost:8080/",
          "height": 36
        },
        "outputId": "c25d6cd7-f0d1-411d-e257-69c81aa4e57e"
      },
      "execution_count": 13,
      "outputs": [
        {
          "output_type": "execute_result",
          "data": {
            "text/plain": [
              "'4 TINTAOg_ stt HANDMADE Eam a4 \"arTs woop ९'"
            ],
            "application/vnd.google.colaboratory.intrinsic+json": {
              "type": "string"
            }
          },
          "metadata": {},
          "execution_count": 13
        }
      ]
    },
    {
      "cell_type": "code",
      "source": [
        "translator= Translator()"
      ],
      "metadata": {
        "id": "h3ZdyP01nyji"
      },
      "execution_count": 15,
      "outputs": []
    },
    {
      "cell_type": "code",
      "source": [
        "print(translator.detect(text_comb))"
      ],
      "metadata": {
        "colab": {
          "base_uri": "https://localhost:8080/"
        },
        "id": "VS-dJoaRncTV",
        "outputId": "bd5f34a6-2690-4e32-8cb3-9f09d0f1a896"
      },
      "execution_count": 16,
      "outputs": [
        {
          "output_type": "stream",
          "name": "stdout",
          "text": [
            "Detected(lang=kn, confidence=0.7589133)\n"
          ]
        }
      ]
    },
    {
      "cell_type": "code",
      "source": [
        "ta_tts=gTTS(text_comb,lang='en')\n",
        "ta_tts.save('trans.mp3')\n",
        "Audio('trans.mp3' , autoplay=True)"
      ],
      "metadata": {
        "colab": {
          "base_uri": "https://localhost:8080/",
          "height": 76
        },
        "id": "DpDRztwzFpc1",
        "outputId": "adde57f3-a8b8-423c-c1c8-591df11e2da1"
      },
      "execution_count": 17,
      "outputs": [
        {
          "output_type": "execute_result",
          "data": {
            "text/plain": [
              "<IPython.lib.display.Audio object>"
            ],
            "text/html": [
              "\n",
              "                <audio  controls=\"controls\" autoplay=\"autoplay\">\n",
              "                    <source src=\"data:audio/mpeg;base64,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\" type=\"audio/mpeg\" />\n",
              "                    Your browser does not support the audio element.\n",
              "                </audio>\n",
              "              "
            ]
          },
          "metadata": {},
          "execution_count": 17
        }
      ]
    },
    {
      "cell_type": "code",
      "source": [
        "text_hi=translator.translate(text_comb, dest='hi')\n",
        "print(text_hi.text)"
      ],
      "metadata": {
        "colab": {
          "base_uri": "https://localhost:8080/"
        },
        "id": "RxDObxPcslIb",
        "outputId": "e18cf102-f9e9-4a3f-c73d-0933ac5a1dc6"
      },
      "execution_count": 18,
      "outputs": [
        {
          "output_type": "stream",
          "name": "stdout",
          "text": [
            "4 TINTAOg_ stt हस्तनिर्मित ईम ए4 \"आर्ट्स वूप 9\n"
          ]
        }
      ]
    },
    {
      "cell_type": "code",
      "source": [
        "ta_tts=gTTS(text_hi.text,lang='hi')\n",
        "ta_tts.save('trans.mp3')\n",
        "Audio('trans.mp3' , autoplay=True)"
      ],
      "metadata": {
        "colab": {
          "base_uri": "https://localhost:8080/",
          "height": 76
        },
        "id": "ZvxKuW6YtBTU",
        "outputId": "ab4e12dc-e9a7-4ab3-c11c-66896616aad4"
      },
      "execution_count": 19,
      "outputs": [
        {
          "output_type": "execute_result",
          "data": {
            "text/plain": [
              "<IPython.lib.display.Audio object>"
            ],
            "text/html": [
              "\n",
              "                <audio  controls=\"controls\" autoplay=\"autoplay\">\n",
              "                    <source src=\"data:audio/mpeg;base64,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\" type=\"audio/mpeg\" />\n",
              "                    Your browser does not support the audio element.\n",
              "                </audio>\n",
              "              "
            ]
          },
          "metadata": {},
          "execution_count": 19
        }
      ]
    },
    {
      "cell_type": "code",
      "source": [],
      "metadata": {
        "id": "GzT--NwdI5K2"
      },
      "execution_count": null,
      "outputs": []
    }
  ]
}